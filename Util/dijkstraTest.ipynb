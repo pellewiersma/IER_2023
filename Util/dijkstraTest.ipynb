{
 "cells": [
  {
   "cell_type": "code",
   "execution_count": null,
   "metadata": {},
   "outputs": [],
   "source": [
    "# Copyright (c) 2023-2024 Pelle Wiersma.\n",
    "# All rights reserved.\n",
    "\n",
    "# Redistribution and use in source and binary forms, with or without\n",
    "# modification, are permitted provided that the following conditions\n",
    "# are met:\n",
    "\n",
    "# 1. Redistributions of source code must retain the above copyright\n",
    "#    notice, this list of conditions and the following disclaimer.\n",
    "\n",
    "# 2. Redistributions in binary form must reproduce the above\n",
    "#    copyright notice, this list of conditions and the following\n",
    "#    disclaimer in the documentation and/or other materials provided\n",
    "#    with the distribution.\n",
    "\n",
    "# 3. Neither the name of the copyright holder nor the names of its\n",
    "#    contributors may be used to endorse or promote products derived\n",
    "#    from this software without specific prior written permission.\n",
    "\n",
    "# THIS SOFTWARE IS PROVIDED BY THE COPYRIGHT HOLDERS AND CONTRIBUTORS\n",
    "# \"AS IS\" AND ANY EXPRESS OR IMPLIED WARRANTIES, INCLUDING, BUT NOT\n",
    "# LIMITED TO, THE IMPLIED WARRANTIES OF MERCHANTABILITY AND FITNESS FOR\n",
    "# A PARTICULAR PURPOSE ARE DISCLAIMED. IN NO EVENT SHALL THE COPYRIGHT\n",
    "# OWNER OR CONTRIBUTORS BE LIABLE FOR ANY DIRECT, INDIRECT, INCIDENTAL,\n",
    "# SPECIAL, EXEMPLARY, OR CONSEQUENTIAL DAMAGES (INCLUDING, BUT NOT\n",
    "# LIMITED TO, PROCUREMENT OF SUBSTITUTE GOODS OR SERVICES; LOSS OF USE,\n",
    "# DATA, OR PROFITS; OR BUSINESS INTERRUPTION) HOWEVER CAUSED AND ON ANY\n",
    "# THEORY OF LIABILITY, WHETHER IN CONTRACT, STRICT LIABILITY, OR TORT\n",
    "# (INCLUDING NEGLIGENCE OR OTHERWISE) ARISING IN ANY WAY OUT OF THE USE\n",
    "# OF THIS SOFTWARE, EVEN IF ADVISED OF THE POSSIBILITY OF SUCH DAMAGE."
   ]
  },
  {
   "cell_type": "code",
   "execution_count": 20,
   "metadata": {},
   "outputs": [],
   "source": [
    "from collections import defaultdict\n",
    "\n",
    "class Graph:\n",
    "\n",
    "  def __init__(self):\n",
    "    self.nodes = set()\n",
    "    self.edges = defaultdict(list) # {node: nodes connected with}\n",
    "    self.distances = {} # {pair of nodes: distance}\n",
    "\n",
    "  def add_node(self, value):\n",
    "    self.nodes.add(value)\n",
    "\n",
    "  def add_edge(self, from_node, to_node, distance):\n",
    "    if not from_node in self.nodes:\n",
    "      self.nodes.add(from_node)\n",
    "    if not to_node in self.nodes:\n",
    "      self.nodes.add(to_node)\n",
    "    self.edges[from_node].append(to_node)\n",
    "    self.distances[(from_node, to_node)] = distance\n",
    "    # for undirected graph\n",
    "    self.edges[to_node].append(from_node)\n",
    "    self.distances[(to_node, from_node)] = distance\n",
    "\n",
    "\n",
    "def dijkstra(graph, initial, final):\n",
    "\n",
    "  visited = {initial: 0} # {visited node: distance from start}\n",
    "  path = {}\n",
    "\n",
    "  nodes = set(graph.nodes)\n",
    "\n",
    "  while nodes:\n",
    "\n",
    "    # remove the nearest node from start\n",
    "\n",
    "    min_node = None\n",
    "    for node in nodes:\n",
    "      if node in visited:\n",
    "        if min_node is None:\n",
    "          min_node = node\n",
    "        elif visited[node] < visited[min_node]:\n",
    "          min_node = node\n",
    "\n",
    "    if min_node is None:\n",
    "      break\n",
    "    if min_node is final:\n",
    "      current = final\n",
    "      shortest_path = [current]\n",
    "      total_distance = 0\n",
    "      while current is not initial:\n",
    "        shortest_path.append(path[current])\n",
    "        total_distance += graph.distances[(path[current], current)]\n",
    "        current = path[current]\n",
    "      return shortest_path[::-1], total_distance\n",
    "\n",
    "    nodes.remove(min_node)\n",
    "\n",
    "    # update distance from start of nodes connected with the removed node\n",
    "\n",
    "    current_distance = visited[min_node]\n",
    "\n",
    "    for edge in graph.edges[min_node]:\n",
    "      distance = current_distance + graph.distances[(min_node, edge)]\n",
    "      if edge not in visited or distance < visited[edge]:\n",
    "        visited[edge] = distance\n",
    "        path[edge] = min_node\n",
    "\n",
    "  return visited, path\n",
    "\n",
    "def m_to_pygame(xy_list):\n",
    "    return [xy_list[0]*25, 500-xy_list[1]*25]\n",
    "\n",
    "def waypoint_to_node(waypoint):\n",
    "    return str(waypoint[0]) + \"|\" + str(waypoint[1])\n",
    "\n",
    "def node_to_waypoint(node):\n",
    "    coordinates = node.split(\"|\")\n",
    "    return [int(coordinates[0]), int(coordinates[1])]"
   ]
  },
  {
   "cell_type": "code",
   "execution_count": 39,
   "metadata": {},
   "outputs": [],
   "source": [
    "g = Graph()\n",
    "# edges = [\n",
    "#     (\"A\", \"B\", 7),\n",
    "#     (\"A\", \"D\", 5),\n",
    "#     (\"B\", \"C\", 8),\n",
    "#     (\"B\", \"D\", 9),\n",
    "#     (\"B\", \"E\", 7),\n",
    "#     (\"C\", \"E\", 5),\n",
    "#     (\"D\", \"E\", 15),\n",
    "#     (\"D\", \"F\", 6),\n",
    "#     (\"E\", \"F\", 8),\n",
    "#     (\"E\", \"G\", 9),\n",
    "#     (\"F\", \"G\", 11)\n",
    "# ]\n",
    "#edges = []\n",
    "for y in range(5):\n",
    "    for x in range(5):\n",
    "        g.add_edge(waypoint_to_node([x, y]), waypoint_to_node([x+1, y]), 1)\n",
    "        g.add_edge(waypoint_to_node([x, y]), waypoint_to_node([x, y+1]), 1)\n",
    "#for edge in edges:\n",
    "#    g.add_edge(*edge)"
   ]
  },
  {
   "cell_type": "code",
   "execution_count": 40,
   "metadata": {},
   "outputs": [
    {
     "name": "stdout",
     "output_type": "stream",
     "text": [
      "defaultdict(<class 'list'>, {'0|0': ['1|0', '0|1'], '1|0': ['0|0', '2|0', '1|1'], '0|1': ['0|0', '1|1', '0|2'], '2|0': ['1|0', '3|0', '2|1'], '1|1': ['1|0', '0|1', '2|1', '1|2'], '3|0': ['2|0', '4|0', '3|1'], '2|1': ['2|0', '1|1', '3|1', '2|2'], '4|0': ['3|0', '5|0', '4|1'], '3|1': ['3|0', '2|1', '4|1', '3|2'], '5|0': ['4|0'], '4|1': ['4|0', '3|1', '5|1', '4|2'], '0|2': ['0|1', '1|2', '0|3'], '1|2': ['1|1', '0|2', '2|2', '1|3'], '2|2': ['2|1', '1|2', '3|2', '2|3'], '3|2': ['3|1', '2|2', '4|2', '3|3'], '5|1': ['4|1'], '4|2': ['4|1', '3|2', '5|2', '4|3'], '0|3': ['0|2', '1|3', '0|4'], '1|3': ['1|2', '0|3', '2|3', '1|4'], '2|3': ['2|2', '1|3', '3|3', '2|4'], '3|3': ['3|2', '2|3', '4|3', '3|4'], '5|2': ['4|2'], '4|3': ['4|2', '3|3', '5|3', '4|4'], '0|4': ['0|3', '1|4', '0|5'], '1|4': ['1|3', '0|4', '2|4', '1|5'], '2|4': ['2|3', '1|4', '3|4', '2|5'], '3|4': ['3|3', '2|4', '4|4', '3|5'], '5|3': ['4|3'], '4|4': ['4|3', '3|4', '5|4', '4|5'], '0|5': ['0|4'], '1|5': ['1|4'], '2|5': ['2|4'], '3|5': ['3|4'], '5|4': ['4|4'], '4|5': ['4|4']})\n"
     ]
    }
   ],
   "source": [
    "print(g.edges)"
   ]
  },
  {
   "cell_type": "code",
   "execution_count": 47,
   "metadata": {},
   "outputs": [
    {
     "name": "stdout",
     "output_type": "stream",
     "text": [
      "6\n",
      "['2|0', '2|1', '2|2', '2|3', '2|4', '3|4', '4|4']\n"
     ]
    }
   ],
   "source": [
    "start = \"2|0\"\n",
    "goal = \"4|4\"\n",
    "dictList = dijkstra(g, start, goal)[1]\n",
    "print(dijkstra(g, start, goal)[0][goal])\n",
    "waypoint = goal\n",
    "waypoints = []\n",
    "while dictList[waypoint] != start:\n",
    "    waypoints.append(waypoint)\n",
    "    waypoint = dictList[waypoint]\n",
    "waypoints.append(waypoint)\n",
    "waypoints.append(start)\n",
    "waypoints.reverse()\n",
    "print(waypoints)"
   ]
  }
 ],
 "metadata": {
  "kernelspec": {
   "display_name": "swarm_env",
   "language": "python",
   "name": "python3"
  },
  "language_info": {
   "codemirror_mode": {
    "name": "ipython",
    "version": 3
   },
   "file_extension": ".py",
   "mimetype": "text/x-python",
   "name": "python",
   "nbconvert_exporter": "python",
   "pygments_lexer": "ipython3",
   "version": "3.11.3"
  },
  "orig_nbformat": 4
 },
 "nbformat": 4,
 "nbformat_minor": 2
}
